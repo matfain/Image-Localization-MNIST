{
 "cells": [
  {
   "cell_type": "markdown",
   "metadata": {},
   "source": [
    "#### Main Project Notebook\n",
    "In this notebook we will perform the steps of the final model training as follows:\n",
    "* Preprocess the data, split it to train & test sets and create data loaders.\n",
    "* Overfit a single batch as good practice to make sure the model is working without any errors.\n",
    "* Train the model on the train set and validate it on the test set."
   ]
  },
  {
   "cell_type": "code",
   "execution_count": 83,
   "metadata": {},
   "outputs": [],
   "source": [
    "import pandas as pd\n",
    "import numpy as np\n",
    "import torch\n",
    "import random\n",
    "from torch import nn\n",
    "from torchvision import models, transforms, datasets\n",
    "from torchvision.ops import distance_box_iou_loss , box_iou\n",
    "from torch.utils.data import DataLoader, Dataset\n",
    "import torch.optim as optim\n",
    "import torch.nn.functional as F\n",
    "import matplotlib.pyplot as plt\n",
    "import matplotlib.patches as patches\n",
    "from torchsummary import summary\n",
    "from math import floor\n",
    "from matplotlib.patches import Rectangle\n",
    "from torch.utils.tensorboard import SummaryWriter\n",
    "from dataset_class import *\n",
    "from model_multioutput import *\n",
    "\n",
    "device = 'cuda' if torch.cuda.is_available() else 'cpu' #checking for gpu availability\n",
    "\n",
    "train_img_dir = r\"C:\\Users\\matan\\Desktop\\MLDL_Projects\\MNIST_Localization\\Data\\MNIST_Converted_Training\\\\\"\n",
    "train_csv_file = r\"C:\\Users\\matan\\Desktop\\MLDL_Projects\\MNIST_Localization\\Data\\training_data.csv\"\n",
    "test_img_dir = r\"C:\\Users\\matan\\Desktop\\MLDL_Projects\\MNIST_Localization\\Data\\MNIST_Converted_Testing\\\\\"\n",
    "test_csv_file = r\"C:\\Users\\matan\\Desktop\\MLDL_Projects\\MNIST_Localization\\Data\\test_data.csv\"\n",
    "\n",
    "transform = transforms.Compose([transforms.Resize((224, 224)), \n",
    "                                transforms.ToTensor(), \n",
    "                                transforms.Normalize((0.0102, 0.0102, 0.0102),    # normalize images for training data\n",
    "                                                    (0.0882, 0.0882, 0.0882))])"
   ]
  },
  {
   "cell_type": "code",
   "execution_count": 2,
   "metadata": {},
   "outputs": [],
   "source": [
    "# Data preparation and Loaders\n",
    "train_ds = MNIST(csv_file=train_csv_file , img_dir=train_img_dir, transform=transform)\n",
    "train_loader = DataLoader(train_ds, batch_size=128, shuffle=True)\n",
    "test_ds = MNIST(csv_file=test_csv_file , img_dir=test_img_dir, transform=transform)\n",
    "test_loader = DataLoader(test_ds, batch_size=128, shuffle=True)"
   ]
  },
  {
   "cell_type": "markdown",
   "metadata": {},
   "source": [
    "#### Overfitting a single batch"
   ]
  },
  {
   "cell_type": "code",
   "execution_count": 19,
   "metadata": {},
   "outputs": [],
   "source": [
    "overfit_x , overfit_y = next(iter(train_loader))\n",
    "\n",
    "def overfit_training_loop(model, optimizer, x, y, epochs):\n",
    "    for e in range(epochs):\n",
    "        model.train()\n",
    "        x = x.to(device)\n",
    "        true_labels = y['label'].to(device)\n",
    "        true_bbox = y['bbox'].to(device)\n",
    "\n",
    "        logits, pred_bbox = model(x)\n",
    "        classification_loss = F.cross_entropy(logits, true_labels)\n",
    "        regression_loss = distance_box_iou_loss(pred_bbox, true_bbox, reduction= 'mean')\n",
    "        loss = classification_loss + regression_loss\n",
    "        optimizer.zero_grad()\n",
    "        loss.backward()\n",
    "        optimizer.step()\n",
    "\n",
    "        if e%50 == 0:\n",
    "            print(f\"Iteration {e} | loss is : {loss.item():.4f}\")"
   ]
  },
  {
   "cell_type": "code",
   "execution_count": 21,
   "metadata": {},
   "outputs": [
    {
     "name": "stdout",
     "output_type": "stream",
     "text": [
      "Iteration 0 | loss is : 3.8010\n",
      "Iteration 50 | loss is : 0.7087\n",
      "Iteration 100 | loss is : 0.1546\n",
      "Iteration 150 | loss is : 0.1162\n",
      "Iteration 200 | loss is : 0.0642\n",
      "Iteration 250 | loss is : 0.0724\n"
     ]
    }
   ],
   "source": [
    "# Training our overfitted model\n",
    "model_to_overfit = LocalizationModel(train_CNN=True).to(device)\n",
    "optimizer= optim.Adam(model_to_overfit.parameters(), lr=1e-3 , weight_decay=1e-4)\n",
    "\n",
    "overfit_training_loop(model_to_overfit, optimizer, overfit_x, overfit_y, epochs=300)"
   ]
  },
  {
   "cell_type": "markdown",
   "metadata": {},
   "source": [
    "#### Training the real model"
   ]
  },
  {
   "cell_type": "code",
   "execution_count": 3,
   "metadata": {},
   "outputs": [],
   "source": [
    "#Functions for training\n",
    "\n",
    "def validation_metrics(model, loader):\n",
    "    num_correct = 0\n",
    "    total_samples = 0\n",
    "    total_iou = 0\n",
    "    model.eval()\n",
    "\n",
    "    with torch.no_grad():\n",
    "        for x, y in loader:\n",
    "            x = x.to(device)\n",
    "            true_labels = y['label'].to(device)\n",
    "            true_bbox = y['bbox'].to(device)\n",
    "\n",
    "            logits, pred_bbox = model(x)\n",
    "            _ , class_pred = logits.max(1)\n",
    "            num_correct += (class_pred == true_labels).sum()\n",
    "            num_samples = class_pred.size(0)\n",
    "            total_samples += num_samples\n",
    "            iou_lis = [box_iou(pred_bbox[i].unsqueeze(0), true_bbox[i].unsqueeze(0)) for i in range(num_samples)]\n",
    "            total_iou += sum(iou_lis)\n",
    "\n",
    "        class_acc = float(num_correct)/total_samples\n",
    "        iou_avg = float(total_iou)/total_samples\n",
    "\n",
    "        return (class_acc, iou_avg)\n",
    "\n",
    "def training_loop(model, optimizer, epochs):\n",
    "    step_loss = 0\n",
    "    step_val_metrics = 0\n",
    "\n",
    "    for e in range(epochs):\n",
    "        print()\n",
    "        print(f\"Starting epoch {e+1}\")\n",
    "        print()\n",
    "\n",
    "        for idx, (x, y) in enumerate(train_loader):\n",
    "            model.train()\n",
    "            x = x.to(device)\n",
    "            true_labels = y['label'].to(device)\n",
    "            true_bbox = y['bbox'].to(device)\n",
    "\n",
    "            logits, pred_bbox = model(x)\n",
    "            classification_loss = F.cross_entropy(logits, true_labels)\n",
    "            regression_loss = distance_box_iou_loss(pred_bbox, true_bbox, reduction= 'mean')\n",
    "            loss = classification_loss + regression_loss\n",
    "            optimizer.zero_grad()\n",
    "            loss.backward()\n",
    "            optimizer.step()\n",
    "\n",
    "            writer.add_scalar('Total training loss', loss, global_step= step_loss)\n",
    "            writer.add_scalar('Box IoU training loss', regression_loss, global_step= step_loss)\n",
    "            writer.add_scalar('Classification training loss', classification_loss, global_step= step_loss)\n",
    "            step_loss += 1\n",
    "\n",
    "            if idx%50 == 0:\n",
    "                class_acc, iou_avg = validation_metrics(model, test_loader)\n",
    "                writer.add_scalar('Validation class Accuracy', class_acc, global_step= step_val_metrics)\n",
    "                writer.add_scalar('Validation Average IoU', iou_avg, global_step= step_val_metrics)\n",
    "                step_val_metrics += 1\n",
    "\n",
    "                print(f\"Epoch {e+1} Batch {idx} | Total training loss: {loss.item():.4f} | Classification training loss: {classification_loss.item():.4f} | Regression training loss: {regression_loss:.4f} | Validation class acc: {100*class_acc:.2f}% | Validation avg IoU: {iou_avg:.4f}\")\n",
    "                print()"
   ]
  },
  {
   "cell_type": "code",
   "execution_count": 4,
   "metadata": {},
   "outputs": [
    {
     "name": "stdout",
     "output_type": "stream",
     "text": [
      "\n",
      "Starting epoch 1\n",
      "\n",
      "Epoch 1 Batch 0 | Total training loss: 3.6193 | Classification training loss: 2.3325 | Regression training loss: 1.2868 | Validation class acc: 11.54% | Validation avg IoU: 0.0004\n",
      "\n",
      "Epoch 1 Batch 50 | Total training loss: 1.0488 | Classification training loss: 0.0852 | Regression training loss: 0.9636 | Validation class acc: 93.60% | Validation avg IoU: 0.0930\n",
      "\n",
      "Epoch 1 Batch 100 | Total training loss: 1.0314 | Classification training loss: 0.0823 | Regression training loss: 0.9491 | Validation class acc: 64.33% | Validation avg IoU: 0.1021\n",
      "\n",
      "Epoch 1 Batch 150 | Total training loss: 1.1183 | Classification training loss: 0.1839 | Regression training loss: 0.9344 | Validation class acc: 93.78% | Validation avg IoU: 0.1237\n",
      "\n",
      "Epoch 1 Batch 200 | Total training loss: 0.8614 | Classification training loss: 0.1239 | Regression training loss: 0.7375 | Validation class acc: 95.91% | Validation avg IoU: 0.3303\n",
      "\n",
      "Epoch 1 Batch 250 | Total training loss: 0.7181 | Classification training loss: 0.0861 | Regression training loss: 0.6320 | Validation class acc: 97.30% | Validation avg IoU: 0.3907\n",
      "\n",
      "Epoch 1 Batch 300 | Total training loss: 0.6517 | Classification training loss: 0.0418 | Regression training loss: 0.6099 | Validation class acc: 97.78% | Validation avg IoU: 0.4004\n",
      "\n",
      "Epoch 1 Batch 350 | Total training loss: 0.6063 | Classification training loss: 0.0362 | Regression training loss: 0.5702 | Validation class acc: 97.62% | Validation avg IoU: 0.4992\n",
      "\n",
      "Epoch 1 Batch 400 | Total training loss: 0.3825 | Classification training loss: 0.1130 | Regression training loss: 0.2696 | Validation class acc: 90.14% | Validation avg IoU: 0.7289\n",
      "\n",
      "Epoch 1 Batch 450 | Total training loss: 0.5211 | Classification training loss: 0.1088 | Regression training loss: 0.4123 | Validation class acc: 91.67% | Validation avg IoU: 0.7528\n",
      "\n",
      "\n",
      "Starting epoch 2\n",
      "\n",
      "Epoch 2 Batch 0 | Total training loss: 0.4837 | Classification training loss: 0.0432 | Regression training loss: 0.4405 | Validation class acc: 90.79% | Validation avg IoU: 0.7193\n",
      "\n",
      "Epoch 2 Batch 50 | Total training loss: 0.2640 | Classification training loss: 0.0079 | Regression training loss: 0.2560 | Validation class acc: 97.43% | Validation avg IoU: 0.7720\n",
      "\n",
      "Epoch 2 Batch 100 | Total training loss: 0.2018 | Classification training loss: 0.0349 | Regression training loss: 0.1669 | Validation class acc: 93.94% | Validation avg IoU: 0.7973\n",
      "\n",
      "Epoch 2 Batch 150 | Total training loss: 0.2072 | Classification training loss: 0.0154 | Regression training loss: 0.1918 | Validation class acc: 96.80% | Validation avg IoU: 0.8309\n",
      "\n",
      "Epoch 2 Batch 200 | Total training loss: 0.4194 | Classification training loss: 0.0215 | Regression training loss: 0.3980 | Validation class acc: 97.57% | Validation avg IoU: 0.7915\n",
      "\n",
      "Epoch 2 Batch 250 | Total training loss: 0.3332 | Classification training loss: 0.0956 | Regression training loss: 0.2376 | Validation class acc: 98.50% | Validation avg IoU: 0.8572\n",
      "\n",
      "Epoch 2 Batch 300 | Total training loss: 0.2188 | Classification training loss: 0.0071 | Regression training loss: 0.2117 | Validation class acc: 95.03% | Validation avg IoU: 0.8606\n",
      "\n",
      "Epoch 2 Batch 350 | Total training loss: 0.1800 | Classification training loss: 0.0161 | Regression training loss: 0.1640 | Validation class acc: 93.74% | Validation avg IoU: 0.8173\n",
      "\n",
      "Epoch 2 Batch 400 | Total training loss: 0.3428 | Classification training loss: 0.0394 | Regression training loss: 0.3034 | Validation class acc: 97.71% | Validation avg IoU: 0.7802\n",
      "\n",
      "Epoch 2 Batch 450 | Total training loss: 0.4002 | Classification training loss: 0.1423 | Regression training loss: 0.2579 | Validation class acc: 98.69% | Validation avg IoU: 0.7716\n",
      "\n",
      "\n",
      "Starting epoch 3\n",
      "\n",
      "Epoch 3 Batch 0 | Total training loss: 0.2259 | Classification training loss: 0.0146 | Regression training loss: 0.2113 | Validation class acc: 97.41% | Validation avg IoU: 0.7868\n",
      "\n",
      "Epoch 3 Batch 50 | Total training loss: 0.1204 | Classification training loss: 0.0045 | Regression training loss: 0.1160 | Validation class acc: 98.20% | Validation avg IoU: 0.7795\n",
      "\n",
      "Epoch 3 Batch 100 | Total training loss: 0.1492 | Classification training loss: 0.0101 | Regression training loss: 0.1391 | Validation class acc: 98.51% | Validation avg IoU: 0.8039\n",
      "\n",
      "Epoch 3 Batch 150 | Total training loss: 0.3460 | Classification training loss: 0.0129 | Regression training loss: 0.3331 | Validation class acc: 98.27% | Validation avg IoU: 0.6915\n",
      "\n",
      "Epoch 3 Batch 200 | Total training loss: 0.1817 | Classification training loss: 0.0103 | Regression training loss: 0.1715 | Validation class acc: 98.71% | Validation avg IoU: 0.8314\n",
      "\n",
      "Epoch 3 Batch 250 | Total training loss: 0.1800 | Classification training loss: 0.0274 | Regression training loss: 0.1526 | Validation class acc: 98.56% | Validation avg IoU: 0.8773\n",
      "\n",
      "Epoch 3 Batch 300 | Total training loss: 0.2097 | Classification training loss: 0.0696 | Regression training loss: 0.1402 | Validation class acc: 97.77% | Validation avg IoU: 0.7725\n",
      "\n",
      "Epoch 3 Batch 350 | Total training loss: 0.1454 | Classification training loss: 0.0168 | Regression training loss: 0.1286 | Validation class acc: 97.32% | Validation avg IoU: 0.8703\n",
      "\n",
      "Epoch 3 Batch 400 | Total training loss: 0.1815 | Classification training loss: 0.0263 | Regression training loss: 0.1552 | Validation class acc: 97.83% | Validation avg IoU: 0.8281\n",
      "\n",
      "Epoch 3 Batch 450 | Total training loss: 0.2029 | Classification training loss: 0.0102 | Regression training loss: 0.1927 | Validation class acc: 98.50% | Validation avg IoU: 0.8328\n",
      "\n",
      "\n",
      "Starting epoch 4\n",
      "\n",
      "Epoch 4 Batch 0 | Total training loss: 0.1502 | Classification training loss: 0.0056 | Regression training loss: 0.1446 | Validation class acc: 98.47% | Validation avg IoU: 0.8572\n",
      "\n",
      "Epoch 4 Batch 50 | Total training loss: 0.1596 | Classification training loss: 0.0039 | Regression training loss: 0.1556 | Validation class acc: 98.97% | Validation avg IoU: 0.8479\n",
      "\n",
      "Epoch 4 Batch 100 | Total training loss: 0.2883 | Classification training loss: 0.0507 | Regression training loss: 0.2376 | Validation class acc: 98.24% | Validation avg IoU: 0.8583\n",
      "\n",
      "Epoch 4 Batch 150 | Total training loss: 0.2110 | Classification training loss: 0.0042 | Regression training loss: 0.2068 | Validation class acc: 98.11% | Validation avg IoU: 0.8562\n",
      "\n",
      "Epoch 4 Batch 200 | Total training loss: 0.3206 | Classification training loss: 0.0422 | Regression training loss: 0.2784 | Validation class acc: 98.26% | Validation avg IoU: 0.8582\n",
      "\n",
      "Epoch 4 Batch 250 | Total training loss: 0.2126 | Classification training loss: 0.0483 | Regression training loss: 0.1642 | Validation class acc: 97.78% | Validation avg IoU: 0.8751\n",
      "\n",
      "Epoch 4 Batch 300 | Total training loss: 0.2435 | Classification training loss: 0.1176 | Regression training loss: 0.1258 | Validation class acc: 98.70% | Validation avg IoU: 0.8407\n",
      "\n",
      "Epoch 4 Batch 350 | Total training loss: 0.1632 | Classification training loss: 0.0130 | Regression training loss: 0.1502 | Validation class acc: 97.55% | Validation avg IoU: 0.8883\n",
      "\n",
      "Epoch 4 Batch 400 | Total training loss: 0.2943 | Classification training loss: 0.0134 | Regression training loss: 0.2810 | Validation class acc: 99.02% | Validation avg IoU: 0.8494\n",
      "\n",
      "Epoch 4 Batch 450 | Total training loss: 0.1666 | Classification training loss: 0.0553 | Regression training loss: 0.1113 | Validation class acc: 98.51% | Validation avg IoU: 0.8637\n",
      "\n",
      "\n",
      "Starting epoch 5\n",
      "\n",
      "Epoch 5 Batch 0 | Total training loss: 0.1558 | Classification training loss: 0.0040 | Regression training loss: 0.1518 | Validation class acc: 97.98% | Validation avg IoU: 0.8109\n",
      "\n",
      "Epoch 5 Batch 50 | Total training loss: 0.1217 | Classification training loss: 0.0089 | Regression training loss: 0.1128 | Validation class acc: 99.16% | Validation avg IoU: 0.8936\n",
      "\n",
      "Epoch 5 Batch 100 | Total training loss: 0.2225 | Classification training loss: 0.0522 | Regression training loss: 0.1703 | Validation class acc: 98.58% | Validation avg IoU: 0.8833\n",
      "\n",
      "Epoch 5 Batch 150 | Total training loss: 0.2460 | Classification training loss: 0.0132 | Regression training loss: 0.2328 | Validation class acc: 98.41% | Validation avg IoU: 0.8339\n",
      "\n",
      "Epoch 5 Batch 200 | Total training loss: 0.2895 | Classification training loss: 0.0834 | Regression training loss: 0.2061 | Validation class acc: 98.79% | Validation avg IoU: 0.8060\n",
      "\n",
      "Epoch 5 Batch 250 | Total training loss: 0.2408 | Classification training loss: 0.0075 | Regression training loss: 0.2334 | Validation class acc: 96.76% | Validation avg IoU: 0.8328\n",
      "\n",
      "Epoch 5 Batch 300 | Total training loss: 0.2290 | Classification training loss: 0.0105 | Regression training loss: 0.2184 | Validation class acc: 98.29% | Validation avg IoU: 0.7877\n",
      "\n",
      "Epoch 5 Batch 350 | Total training loss: 0.2258 | Classification training loss: 0.0025 | Regression training loss: 0.2233 | Validation class acc: 99.13% | Validation avg IoU: 0.8354\n",
      "\n",
      "Epoch 5 Batch 400 | Total training loss: 0.1464 | Classification training loss: 0.0284 | Regression training loss: 0.1179 | Validation class acc: 98.53% | Validation avg IoU: 0.8788\n",
      "\n",
      "Epoch 5 Batch 450 | Total training loss: 0.1993 | Classification training loss: 0.0065 | Regression training loss: 0.1928 | Validation class acc: 97.72% | Validation avg IoU: 0.8345\n",
      "\n"
     ]
    }
   ],
   "source": [
    "# Training our model\n",
    "# Hyperparams\n",
    "lr = 1e-3\n",
    "weight_decay = 1e-4\n",
    "num_epochs = 5\n",
    "\n",
    "model_1 = LocalizationModel(train_CNN=True).to(device)\n",
    "dummy_input = torch.rand(1, 3, 224, 224).to(device)\n",
    "writer = SummaryWriter(f'TB/model_1')\n",
    "writer.add_graph(model_1, dummy_input)\n",
    "\n",
    "optimizer= optim.Adam(model_1.parameters(), lr=lr, weight_decay=weight_decay)\n",
    "training_loop(model_1, optimizer, epochs=num_epochs)\n",
    "writer.close()"
   ]
  },
  {
   "cell_type": "markdown",
   "metadata": {},
   "source": [
    "#### Model inference, testing and summary\n",
    "After we reached satisfying results with a final version of the model, we can use it to make predictions on some test samples and compare them to the ground truth."
   ]
  },
  {
   "cell_type": "code",
   "execution_count": 115,
   "metadata": {},
   "outputs": [],
   "source": [
    "def sample_test(model, num_samples=1):\n",
    "    model.eval()\n",
    "    with torch.no_grad():\n",
    "        for i in range(num_samples):\n",
    "            x , y = test_ds[floor(random.random()*len(test_ds))]\n",
    "            true_class = y['label']\n",
    "            true_bbox = y['bbox']\n",
    "            x1, y1, x2, y2 = [int(c*224) for c in true_bbox]\n",
    "            true_width = x2 - x1\n",
    "            true_height = y2 - y1\n",
    "\n",
    "            x = x.to(device)\n",
    "            x = x.unsqueeze(0)\n",
    "            logits , pred_bbox = model(x)\n",
    "            pred_bbox = pred_bbox.squeeze()\n",
    "            _ , pred_class = logits.max(1)\n",
    "            x_1, y_1, x_2, y_2 = [int(c*224) for c in pred_bbox]\n",
    "            pred_width = x_2 - x_1\n",
    "            pred_height = y_2 - y_1\n",
    "\n",
    "            true_rect = Rectangle((x1, y1), true_width, true_height, linewidth=1, edgecolor='g', facecolor='none')\n",
    "            pred_rect = Rectangle((x_1, y_1), pred_width, pred_height, linewidth=1, edgecolor='r', facecolor='none')\n",
    "            x = x.squeeze().cpu()\n",
    "\n",
    "            plt.imshow(x.permute(1,2,0).clamp(0,1))\n",
    "            plot_axes = plt.gca()\n",
    "            plot_axes.add_patch(true_rect)\n",
    "            plot_axes.add_patch(pred_rect)\n",
    "\n",
    "            legend_handles = [patches.Patch(color='r', label='Model bbox'),\n",
    "                              patches.Patch(color='g', label='True bbox')]\n",
    "            \n",
    "            plot_axes.legend(handles=legend_handles, loc='upper right')\n",
    "            plt.show()\n",
    "            print(f\"Model's class prediction is: {pred_class.item()}\")"
   ]
  },
  {
   "cell_type": "code",
   "execution_count": 133,
   "metadata": {},
   "outputs": [
    {
     "data": {
      "image/png": "[encoded data removed]",
      "text/plain": [
       "<Figure size 640x480 with 1 Axes>"
      ]
     },
     "metadata": {},
     "output_type": "display_data"
    },
    {
     "name": "stdout",
     "output_type": "stream",
     "text": [
      "Model's class prediction is: 0\n"
     ]
    },
    {
     "data": {
      "image/png": "[encoded data removed]",
      "text/plain": [
       "<Figure size 640x480 with 1 Axes>"
      ]
     },
     "metadata": {},
     "output_type": "display_data"
    },
    {
     "name": "stdout",
     "output_type": "stream",
     "text": [
      "Model's class prediction is: 8\n"
     ]
    },
    {
     "data": {
      "image/png": "[encoded data removed]",
      "text/plain": [
       "<Figure size 640x480 with 1 Axes>"
      ]
     },
     "metadata": {},
     "output_type": "display_data"
    },
    {
     "name": "stdout",
     "output_type": "stream",
     "text": [
      "Model's class prediction is: 4\n"
     ]
    }
   ],
   "source": [
    "sample_test(model_1, num_samples=3)"
   ]
  }
 ],
 "metadata": {
  "kernelspec": {
   "display_name": "base",
   "language": "python",
   "name": "python3"
  },
  "language_info": {
   "codemirror_mode": {
    "name": "ipython",
    "version": 3
   },
   "file_extension": ".py",
   "mimetype": "text/x-python",
   "name": "python",
   "nbconvert_exporter": "python",
   "pygments_lexer": "ipython3",
   "version": "3.9.13"
  }
 },
 "nbformat": 4,
 "nbformat_minor": 2
}
